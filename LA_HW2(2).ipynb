{
 "cells": [
  {
   "cell_type": "markdown",
   "metadata": {},
   "source": [
    "#### Задание 5. Написать на Python функцию для перемножения двух произвольных матриц, не используя NumPy."
   ]
  },
  {
   "cell_type": "code",
   "execution_count": 1,
   "metadata": {},
   "outputs": [],
   "source": [
    "def m_mult(m1, m2):\n",
    "    return [[sum(i * j for i, j in zip(m1_rows, m2_columns)) for m2_columns in zip(*m2)] for m1_rows in m1]"
   ]
  },
  {
   "cell_type": "code",
   "execution_count": 2,
   "metadata": {},
   "outputs": [],
   "source": [
    "import random\n",
    " \n",
    "a = [[random.randint(0, 9) for i in range(6)] for j in range(4)]\n",
    "b = [[random.randint(0, 9) for i in range(4)] for j in range(6)]"
   ]
  },
  {
   "cell_type": "code",
   "execution_count": 3,
   "metadata": {},
   "outputs": [
    {
     "name": "stdout",
     "output_type": "stream",
     "text": [
      "[[7, 3, 5, 8, 4, 9], [3, 6, 5, 3, 8, 4], [8, 3, 8, 0, 0, 5], [6, 9, 0, 3, 1, 8]]\n",
      "[[5, 7, 2, 3], [7, 3, 9, 8], [4, 2, 2, 9], [9, 8, 1, 9], [5, 9, 0, 6], [4, 7, 6, 3]]\n"
     ]
    }
   ],
   "source": [
    "print(a)\n",
    "print(b)"
   ]
  },
  {
   "cell_type": "code",
   "execution_count": 4,
   "metadata": {},
   "outputs": [
    {
     "data": {
      "text/plain": [
       "[[204, 231, 113, 213],\n",
       " [160, 173, 97, 189],\n",
       " [113, 116, 89, 135],\n",
       " [157, 158, 144, 147]]"
      ]
     },
     "execution_count": 4,
     "metadata": {},
     "output_type": "execute_result"
    }
   ],
   "source": [
    "m_mult(a, b)"
   ]
  },
  {
   "cell_type": "code",
   "execution_count": null,
   "metadata": {},
   "outputs": [],
   "source": []
  }
 ],
 "metadata": {
  "kernelspec": {
   "display_name": "Python 3",
   "language": "python",
   "name": "python3"
  },
  "language_info": {
   "codemirror_mode": {
    "name": "ipython",
    "version": 3
   },
   "file_extension": ".py",
   "mimetype": "text/x-python",
   "name": "python",
   "nbconvert_exporter": "python",
   "pygments_lexer": "ipython3",
   "version": "3.7.6"
  }
 },
 "nbformat": 4,
 "nbformat_minor": 4
}
